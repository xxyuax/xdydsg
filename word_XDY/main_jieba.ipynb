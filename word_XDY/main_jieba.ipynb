{
 "cells": [
  {
   "cell_type": "markdown",
   "id": "1e1288b7-b2b0-4ffa-82d8-532b96b4363c",
   "metadata": {},
   "source": [
    "#结巴分词实践"
   ]
  },
  {
   "cell_type": "markdown",
   "id": "9692ebed-08df-407b-abc0-908a8f175915",
   "metadata": {},
   "source": [
    "##结巴分词的三种模式"
   ]
  },
  {
   "cell_type": "markdown",
   "id": "f9eed8c2-7ccf-460a-bd6d-7ecbd27ae0a1",
   "metadata": {},
   "source": [
    "###全模式"
   ]
  },
  {
   "cell_type": "code",
   "execution_count": 1,
   "id": "6e1760b7-fb0e-4c80-a675-22d6b253a3f5",
   "metadata": {},
   "outputs": [
    {
     "name": "stderr",
     "output_type": "stream",
     "text": [
      "Building prefix dict from the default dictionary ...\n",
      "Dumping model to file cache C:\\Users\\lenovo\\AppData\\Local\\Temp\\jieba.cache\n",
      "Loading model cost 1.064 seconds.\n",
      "Prefix dict has been built successfully.\n"
     ]
    },
    {
     "name": "stdout",
     "output_type": "stream",
     "text": [
      "Full Mode: 我/ 来到/ 北京/ 清华/ 清华大学/ 华大/ 大学\n"
     ]
    }
   ],
   "source": [
    "import jieba\n",
    "seg_list = jieba.cut(\"我来到北京清华大学\", cut_all=True)\n",
    "print(\"Full Mode: \" + \"/ \".join(seg_list))  # 全模式"
   ]
  },
  {
   "cell_type": "markdown",
   "id": "6b82a542-163d-4156-8f91-e8651c93ab15",
   "metadata": {},
   "source": [
    "###精确模式"
   ]
  },
  {
   "cell_type": "code",
   "execution_count": 2,
   "id": "c41588d9-0029-4599-9d28-904fa7ae13c9",
   "metadata": {},
   "outputs": [
    {
     "name": "stdout",
     "output_type": "stream",
     "text": [
      "Default Mode: 我/ 来到/ 北京/ 清华大学\n"
     ]
    }
   ],
   "source": [
    "seg_list = jieba.cut(\"我来到北京清华大学\", cut_all=False)\n",
    "print(\"Default Mode: \" + \"/ \".join(seg_list))  # 精确模式"
   ]
  },
  {
   "cell_type": "markdown",
   "id": "63c1dc3b-6d7b-446a-8cfa-3b48800dbcdb",
   "metadata": {},
   "source": [
    "###搜索引擎模式"
   ]
  },
  {
   "cell_type": "code",
   "execution_count": 3,
   "id": "005a03a9-387f-4a92-9e8e-37030569dbd6",
   "metadata": {},
   "outputs": [
    {
     "name": "stdout",
     "output_type": "stream",
     "text": [
      "小明, 硕士, 毕业, 于, 中国, 科学, 学院, 科学院, 中国科学院, 计算, 计算所, ，, 后, 在, 日本, 京都, 大学, 日本京都大学, 深造\n"
     ]
    }
   ],
   "source": [
    "seg_list = jieba.cut_for_search(\"小明硕士毕业于中国科学院计算所，后在日本京都大学深造\")  # 搜索引擎模式\n",
    "print(\", \".join(seg_list))"
   ]
  },
  {
   "cell_type": "markdown",
   "id": "18e4b5ca-632f-42b9-a845-890ae337c74e",
   "metadata": {},
   "source": [
    "###载入词典"
   ]
  },
  {
   "cell_type": "code",
   "execution_count": 5,
   "id": "832e32fb-5c58-4d19-8aed-67d7217ac0c8",
   "metadata": {},
   "outputs": [
    {
     "name": "stdout",
     "output_type": "stream",
     "text": [
      "Default Mode: 田干/即将/是/自然语言/处理/方面/的/高手\n"
     ]
    }
   ],
   "source": [
    "jieba.load_userdict(\"userdict.txt\")\n",
    "seg_list = jieba.cut(\"田干即将是自然语言处理方面的高手\", cut_all=False, HMM=False)\n",
    "print(\"Default Mode: \" + \"/\".join(seg_list))"
   ]
  }
 ],
 "metadata": {
  "kernelspec": {
   "display_name": "Python 3 (ipykernel)",
   "language": "python",
   "name": "python3"
  },
  "language_info": {
   "codemirror_mode": {
    "name": "ipython",
    "version": 3
   },
   "file_extension": ".py",
   "mimetype": "text/x-python",
   "name": "python",
   "nbconvert_exporter": "python",
   "pygments_lexer": "ipython3",
   "version": "3.9.21"
  }
 },
 "nbformat": 4,
 "nbformat_minor": 5
}
